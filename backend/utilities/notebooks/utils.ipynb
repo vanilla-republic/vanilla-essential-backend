{
 "cells": [
  {
   "cell_type": "code",
   "execution_count": null,
   "metadata": {},
   "outputs": [],
   "source": [
    "import logging\n",
    "from logging.handlers import TimedRotatingFileHandler\n",
    "from typing import Optional\n",
    "import pathlib"
   ]
  },
  {
   "cell_type": "code",
   "execution_count": null,
   "metadata": {},
   "outputs": [],
   "source": [
    "def create_logger(\n",
    "    log_parent_path: pathlib.PosixPath = None,\n",
    "    log_file: str = None,\n",
    "    logger: Optional[logging.Logger] = None,\n",
    ") -> logging.Logger:\n",
    "    \"\"\"\n",
    "    Return logger\n",
    "    Example\n",
    "    --------\n",
    "    ```python\n",
    "    >>> from utilities.utils import creat_logger\n",
    "    >>> logger = creat_logger('<some parent path>', '<some file name>.log')\n",
    "    ```\n",
    "    \"\"\"\n",
    "    ### Logging toolbox 🔊\n",
    "    if not logger:\n",
    "        logger = logging.getLogger(__name__)\n",
    "    logger.setLevel(logging.INFO)\n",
    "    formatter = logging.Formatter(\"%(asctime)s:%(name)s:%(levelname)s:%(message)s\")\n",
    "\n",
    "    # verbose\n",
    "    stream_handler = logging.StreamHandler()\n",
    "    stream_handler.setFormatter(formatter)\n",
    "    logger.addHandler(stream_handler)\n",
    "\n",
    "    # set file handler\n",
    "    if not log_file or not log_parent_path:\n",
    "        logger.warning(\n",
    "            \"If either `log_parent_path` or `log_file` is/are not specified, no log file will be created. Only log streams are printed.\"\n",
    "        )\n",
    "\n",
    "    if log_file:\n",
    "        log_parent_path = (\n",
    "            log_parent_path\n",
    "            if isinstance(log_parent_path, pathlib.PosixPath)\n",
    "            else pathlib.Path(log_parent_path)\n",
    "        )\n",
    "\n",
    "    if log_file and log_parent_path:\n",
    "        try:\n",
    "            if not log_parent_path.exists():\n",
    "                log_parent_path.mkdir()\n",
    "            log_file = log_file.rpartition(\"/\")[-1].rpartition(\".\")[0] + \".log\"\n",
    "        except:\n",
    "            log_file = \"fallback.log\"\n",
    "\n",
    "        log_file_path = log_parent_path / log_file\n",
    "        ## Rotation\n",
    "        log_handler = TimedRotatingFileHandler(\n",
    "            log_file_path, when=\"midnight\", backupCount=365\n",
    "        )\n",
    "        log_handler.setFormatter(formatter)\n",
    "        logger.addHandler(log_handler)\n",
    "\n",
    "    return logger"
   ]
  }
 ],
 "metadata": {
  "language_info": {
   "name": "python"
  },
  "orig_nbformat": 4
 },
 "nbformat": 4,
 "nbformat_minor": 2
}
