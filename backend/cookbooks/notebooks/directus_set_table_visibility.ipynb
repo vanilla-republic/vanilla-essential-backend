{
 "cells": [
  {
   "cell_type": "code",
   "execution_count": null,
   "metadata": {},
   "outputs": [],
   "source": [
    "# ## for jupyter debugging\n",
    "# %cd ../../utilities\n",
    "# import sys\n",
    "\n",
    "# sys.path.append(\"..\")\n",
    "\n",
    "# import asyncio\n",
    "\n",
    "# if (\n",
    "#     asyncio.get_event_loop().is_running()\n",
    "# ):  # Only patch if needed (i.e. running in Notebook, Spyder, etc)\n",
    "#     import nest_asyncio\n",
    "\n",
    "#     nest_asyncio.apply()"
   ]
  },
  {
   "attachments": {},
   "cell_type": "markdown",
   "metadata": {},
   "source": [
    "# Path + Creadentials loading 🧑🏻‍🚀"
   ]
  },
  {
   "cell_type": "code",
   "execution_count": null,
   "metadata": {},
   "outputs": [],
   "source": [
    "from dotenv import load_dotenv\n",
    "import os\n",
    "from pathlib import Path\n",
    "\n",
    "### loading credentials\n",
    "try:\n",
    "    os.chdir(os.path.dirname(os.path.abspath(__file__)))\n",
    "except:\n",
    "    pass\n",
    "\n",
    "# CRED_PATH = \"../.credentials\"  ## .credentials folder is in service directory\n",
    "# CRED_FILE = \"directus_credentials.json\"\n",
    "ENV_PATH = \"..\"  ## .env file is in service directory\n",
    "LOG_PATH = \"../.logs\"\n",
    "env_path = Path(ENV_PATH) / \".env\"\n",
    "load_dotenv(dotenv_path=env_path)"
   ]
  },
  {
   "attachments": {},
   "cell_type": "markdown",
   "metadata": {},
   "source": [
    "# Main Packages 🚀"
   ]
  },
  {
   "cell_type": "code",
   "execution_count": null,
   "metadata": {},
   "outputs": [],
   "source": [
    "import asyncio\n",
    "import httpx\n",
    "from typing import List"
   ]
  },
  {
   "attachments": {},
   "cell_type": "markdown",
   "metadata": {},
   "source": [
    "# Project Utilities 🛰"
   ]
  },
  {
   "cell_type": "code",
   "execution_count": null,
   "metadata": {},
   "outputs": [],
   "source": [
    "from utilities.directus_utils import AsyncDirectusAPI\n",
    "from utilities.utils import create_logger"
   ]
  },
  {
   "attachments": {},
   "cell_type": "markdown",
   "metadata": {},
   "source": [
    "# Logging toolbox 🔊"
   ]
  },
  {
   "cell_type": "code",
   "execution_count": null,
   "metadata": {},
   "outputs": [],
   "source": [
    "try:\n",
    "    logger = create_logger(Path(LOG_PATH), __file__, logging.getLogger(__name__))\n",
    "except:\n",
    "    logger = create_logger()"
   ]
  },
  {
   "attachments": {},
   "cell_type": "markdown",
   "metadata": {},
   "source": [
    "# Cookbook part ✨"
   ]
  },
  {
   "cell_type": "code",
   "execution_count": null,
   "metadata": {},
   "outputs": [],
   "source": [
    "async def directus_set_table_visibility(\n",
    "    access_token: str = os.getenv(\"DIRECTUS_ACCESS_TOKEN\"),\n",
    "    base_url: str\n",
    "    | httpx.URL = os.getenv(\n",
    "        \"DIRECTUS_BASE_URL\", \"http://vanilla-essential-backend-directus:8055\"\n",
    "    ),\n",
    "    ignored_collections: List[str] = [\n",
    "        \"directus_\",\n",
    "        \"database_multipleselect\",\n",
    "        \"database_relation\",\n",
    "        \"database_table\",\n",
    "    ],\n",
    "    timeout: int | httpx.Timeout = httpx.AsyncClient().timeout,\n",
    "):\n",
    "    try:\n",
    "        aclient = AsyncDirectusAPI(\n",
    "            access_token=access_token, base_url=base_url, timeout=timeout\n",
    "        )\n",
    "        await aclient.auth()\n",
    "    except Exception as e:\n",
    "        logger.error(e)\n",
    "        raise e\n",
    "    else:\n",
    "        logger.info(\"Current user:\", aclient.current_user)\n",
    "\n",
    "    try:\n",
    "        await aclient.set_collection_visibility(ignored_collections=ignored_collections)\n",
    "    except Exception as e:\n",
    "        logger.error(e)\n",
    "        raise e\n",
    "    else:\n",
    "        logger.info(\"Set collection visibility successfully\")"
   ]
  },
  {
   "cell_type": "code",
   "execution_count": null,
   "metadata": {},
   "outputs": [],
   "source": [
    "if __name__ == \"__main__\":\n",
    "    asyncio.run(\n",
    "        directus_set_table_visibility(\n",
    "            access_token=os.getenv(\"DIRECTUS_ACCESS_TOKEN\"),\n",
    "            base_url=os.getenv(\"DIRECTUS_BASE_URL\"),\n",
    "            ignored_collections=[\n",
    "                \"directus_\",\n",
    "                \"database_multipleselect\",\n",
    "                \"database_relation\",\n",
    "                \"database_table\",\n",
    "            ],\n",
    "            timeout=60,\n",
    "        )\n",
    "    )"
   ]
  },
  {
   "cell_type": "code",
   "execution_count": null,
   "metadata": {},
   "outputs": [],
   "source": []
  }
 ],
 "metadata": {
  "kernelspec": {
   "display_name": "vanilla-baserow-backend",
   "language": "python",
   "name": "python3"
  },
  "language_info": {
   "codemirror_mode": {
    "name": "ipython",
    "version": 3
   },
   "file_extension": ".py",
   "mimetype": "text/x-python",
   "name": "python",
   "nbconvert_exporter": "python",
   "pygments_lexer": "ipython3",
   "version": "3.10.12"
  },
  "orig_nbformat": 4
 },
 "nbformat": 4,
 "nbformat_minor": 2
}
