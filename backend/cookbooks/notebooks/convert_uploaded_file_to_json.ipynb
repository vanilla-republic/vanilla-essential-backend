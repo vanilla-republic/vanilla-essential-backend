{
 "cells": [
  {
   "cell_type": "code",
   "execution_count": null,
   "metadata": {},
   "outputs": [],
   "source": [
    "# ## for jupyter debugging\n",
    "# %cd ../../utilities\n",
    "# import sys\n",
    "# sys.path.append('..')\n",
    "\n",
    "# import asyncio\n",
    "# if asyncio.get_event_loop().is_running(): # Only patch if needed (i.e. running in Notebook, Spyder, etc)\n",
    "#     import nest_asyncio\n",
    "#     nest_asyncio.apply()"
   ]
  },
  {
   "attachments": {},
   "cell_type": "markdown",
   "metadata": {},
   "source": [
    "# Path + Creadentials loading 🧑🏻‍🚀"
   ]
  },
  {
   "cell_type": "code",
   "execution_count": null,
   "metadata": {},
   "outputs": [],
   "source": [
    "from dotenv import load_dotenv\n",
    "import os\n",
    "from pathlib import Path\n",
    "\n",
    "### loading credentials\n",
    "try:\n",
    "    os.chdir(os.path.dirname(os.path.abspath(__file__)))\n",
    "except:\n",
    "    pass\n",
    "\n",
    "# CRED_PATH = \"../.credentials\"  ## .credentials folder is in service directory\n",
    "# CRED_FILE = \"directus_credentials.json\"\n",
    "ENV_PATH = \"..\"  ## .env file is in service directory\n",
    "LOG_PATH = \"../.logs\"\n",
    "env_path = Path(ENV_PATH) / \".env\"\n",
    "load_dotenv(dotenv_path=env_path)"
   ]
  },
  {
   "attachments": {},
   "cell_type": "markdown",
   "metadata": {},
   "source": [
    "# Main Packages 🚀"
   ]
  },
  {
   "cell_type": "code",
   "execution_count": null,
   "metadata": {},
   "outputs": [],
   "source": [
    "from typing import List\n",
    "import inspect\n",
    "import logging\n",
    "import pandas as pd"
   ]
  },
  {
   "attachments": {},
   "cell_type": "markdown",
   "metadata": {},
   "source": [
    "# Project Utilities 🛰"
   ]
  },
  {
   "cell_type": "code",
   "execution_count": null,
   "metadata": {},
   "outputs": [],
   "source": [
    "from models.convert_model import JSONOrient, PandasReadFuntions\n",
    "from utilities.utils import create_logger"
   ]
  },
  {
   "attachments": {},
   "cell_type": "markdown",
   "metadata": {},
   "source": [
    "# Logging toolbox 🔊"
   ]
  },
  {
   "cell_type": "code",
   "execution_count": null,
   "metadata": {},
   "outputs": [],
   "source": [
    "try:\n",
    "    logger = create_logger(Path(LOG_PATH), __file__, logging.getLogger(__name__))\n",
    "except:\n",
    "    logger = create_logger()"
   ]
  },
  {
   "attachments": {},
   "cell_type": "markdown",
   "metadata": {},
   "source": [
    "# Cookbook part ✨"
   ]
  },
  {
   "cell_type": "code",
   "execution_count": null,
   "metadata": {},
   "outputs": [],
   "source": [
    "def convert_uploaded_file_to_json(\n",
    "    io: str | bytes | Path,\n",
    "    orient: JSONOrient = \"records\",\n",
    "    pandas_read_function: PandasReadFuntions = \"read_csv\",\n",
    "    **kwargs,\n",
    ") -> dict | List[dict]:\n",
    "    \"\"\"\n",
    "    Read the uploaded file into a Pandas DataFrame and convert it to JSON.\n",
    "    \"\"\"\n",
    "    # Read file into a Pandas DataFrame\n",
    "    assert pandas_read_function\n",
    "    if pandas_read_function == \"read_csv\":\n",
    "        func = pd.read_csv\n",
    "\n",
    "    elif pandas_read_function == \"read_excel\":\n",
    "        func = pd.read_excel\n",
    "\n",
    "    elif pandas_read_function == \"read_html\":\n",
    "        func = pd.read_html\n",
    "\n",
    "    else:\n",
    "        func = pd.read_json\n",
    "\n",
    "    # pandas.read_x\n",
    "    pd_read_kwargs = {\n",
    "        k: v for k, v in kwargs.items() if k in inspect.signature(pd.read_excel).parameters\n",
    "    }\n",
    "    df = func(io, **pd_read_kwargs)\n",
    "\n",
    "    # Convert the DataFrame to JSON\n",
    "    dct_output = df.to_dict(orient=orient)\n",
    "    return dct_output"
   ]
  },
  {
   "cell_type": "code",
   "execution_count": null,
   "metadata": {},
   "outputs": [],
   "source": [
    "# if __name__ == \"__main__\":\n",
    "#     json_output = convert_uploaded_file_to_json()"
   ]
  }
 ],
 "metadata": {
  "kernelspec": {
   "display_name": "vanilla-vt-backend",
   "language": "python",
   "name": "python3"
  },
  "language_info": {
   "codemirror_mode": {
    "name": "ipython",
    "version": 3
   },
   "file_extension": ".py",
   "mimetype": "text/x-python",
   "name": "python",
   "nbconvert_exporter": "python",
   "pygments_lexer": "ipython3",
   "version": "3.10.12"
  },
  "orig_nbformat": 4
 },
 "nbformat": 4,
 "nbformat_minor": 2
}
